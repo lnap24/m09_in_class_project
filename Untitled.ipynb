{
 "cells": [
  {
   "cell_type": "code",
   "execution_count": 3,
   "id": "6514ebcf-3b3a-43b5-91e7-2b723e7aba71",
   "metadata": {
    "tags": []
   },
   "outputs": [],
   "source": [
    "from test_folder import fibo as f"
   ]
  },
  {
   "cell_type": "code",
   "execution_count": null,
   "id": "e3eab0b4-3fac-4281-bc69-88af0fd0d5ef",
   "metadata": {},
   "outputs": [],
   "source": [
    "f."
   ]
  }
 ],
 "metadata": {
  "kernelspec": {
   "display_name": "Python 3 (ipykernel)",
   "language": "python",
   "name": "python3"
  },
  "language_info": {
   "codemirror_mode": {
    "name": "ipython",
    "version": 3
   },
   "file_extension": ".py",
   "mimetype": "text/x-python",
   "name": "python",
   "nbconvert_exporter": "python",
   "pygments_lexer": "ipython3",
   "version": "3.11.5"
  }
 },
 "nbformat": 4,
 "nbformat_minor": 5
}
